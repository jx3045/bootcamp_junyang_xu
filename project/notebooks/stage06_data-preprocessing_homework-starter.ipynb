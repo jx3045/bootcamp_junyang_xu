{
 "cells": [
  {
   "cell_type": "markdown",
   "metadata": {},
   "source": [
    "# Homework Starter — Stage 6: Data Preprocessing\n",
    "Use this notebook to apply your cleaning functions and save processed data."
   ]
  },
  {
   "cell_type": "code",
   "execution_count": 7,
   "metadata": {},
   "outputs": [],
   "source": [
    "import sys, pathlib\n",
    "sys.path.append(str(pathlib.Path(\"..\").resolve()))\n",
    "import pandas as pd\n",
    "from src import cleaning\n",
    "import pathlib\n"
   ]
  },
  {
   "cell_type": "markdown",
   "metadata": {},
   "source": [
    "## Load Raw Dataset"
   ]
  },
  {
   "cell_type": "code",
   "execution_count": 8,
   "metadata": {},
   "outputs": [
    {
     "data": {
      "text/html": [
       "<div>\n",
       "<style scoped>\n",
       "    .dataframe tbody tr th:only-of-type {\n",
       "        vertical-align: middle;\n",
       "    }\n",
       "\n",
       "    .dataframe tbody tr th {\n",
       "        vertical-align: top;\n",
       "    }\n",
       "\n",
       "    .dataframe thead th {\n",
       "        text-align: right;\n",
       "    }\n",
       "</style>\n",
       "<table border=\"1\" class=\"dataframe\">\n",
       "  <thead>\n",
       "    <tr style=\"text-align: right;\">\n",
       "      <th></th>\n",
       "      <th>date</th>\n",
       "      <th>price</th>\n",
       "      <th>volume</th>\n",
       "      <th>returns</th>\n",
       "    </tr>\n",
       "  </thead>\n",
       "  <tbody>\n",
       "    <tr>\n",
       "      <th>0</th>\n",
       "      <td>2024-01-01</td>\n",
       "      <td>NaN</td>\n",
       "      <td>1805.0</td>\n",
       "      <td>0.020714</td>\n",
       "    </tr>\n",
       "    <tr>\n",
       "      <th>1</th>\n",
       "      <td>2024-01-02</td>\n",
       "      <td>98.617357</td>\n",
       "      <td>1843.0</td>\n",
       "      <td>-0.010889</td>\n",
       "    </tr>\n",
       "    <tr>\n",
       "      <th>2</th>\n",
       "      <td>2024-01-03</td>\n",
       "      <td>106.476885</td>\n",
       "      <td>NaN</td>\n",
       "      <td>0.005350</td>\n",
       "    </tr>\n",
       "    <tr>\n",
       "      <th>3</th>\n",
       "      <td>2024-01-04</td>\n",
       "      <td>115.230299</td>\n",
       "      <td>814.0</td>\n",
       "      <td>0.039917</td>\n",
       "    </tr>\n",
       "    <tr>\n",
       "      <th>4</th>\n",
       "      <td>2024-01-05</td>\n",
       "      <td>97.658466</td>\n",
       "      <td>1376.0</td>\n",
       "      <td>0.014832</td>\n",
       "    </tr>\n",
       "  </tbody>\n",
       "</table>\n",
       "</div>"
      ],
      "text/plain": [
       "         date       price  volume   returns\n",
       "0  2024-01-01         NaN  1805.0  0.020714\n",
       "1  2024-01-02   98.617357  1843.0 -0.010889\n",
       "2  2024-01-03  106.476885     NaN  0.005350\n",
       "3  2024-01-04  115.230299   814.0  0.039917\n",
       "4  2024-01-05   97.658466  1376.0  0.014832"
      ]
     },
     "execution_count": 8,
     "metadata": {},
     "output_type": "execute_result"
    }
   ],
   "source": [
    "RAW = pathlib.Path(\"../data/raw/sample_data.csv\")\n",
    "PROC = pathlib.Path(\"../data/processed/sample_data_cleaned.csv\")\n",
    "df = pd.read_csv(RAW)\n",
    "df.head()"
   ]
  },
  {
   "cell_type": "markdown",
   "metadata": {},
   "source": [
    "## Apply Cleaning Functions"
   ]
  },
  {
   "cell_type": "code",
   "execution_count": 9,
   "metadata": {},
   "outputs": [],
   "source": [
    "df_clean = cleaning.fill_missing_median(df, ['price'])   # suppose losses\n",
    "df_clean = cleaning.drop_missing(df_clean, threshold=0.5)\n",
    "df_clean = cleaning.normalize_data(df_clean, ['price'])\n"
   ]
  },
  {
   "cell_type": "markdown",
   "metadata": {},
   "source": [
    "## Save Cleaned Dataset"
   ]
  },
  {
   "cell_type": "code",
   "execution_count": 10,
   "metadata": {},
   "outputs": [
    {
     "name": "stdout",
     "output_type": "stream",
     "text": [
      "cleaned data：\n",
      "<class 'pandas.core.frame.DataFrame'>\n",
      "RangeIndex: 500 entries, 0 to 499\n",
      "Data columns (total 4 columns):\n",
      " #   Column   Non-Null Count  Dtype  \n",
      "---  ------   --------------  -----  \n",
      " 0   date     500 non-null    object \n",
      " 1   price    500 non-null    float64\n",
      " 2   volume   450 non-null    float64\n",
      " 3   returns  450 non-null    float64\n",
      "dtypes: float64(3), object(1)\n",
      "memory usage: 15.8+ KB\n",
      "None\n",
      "cleaned_data_saved\n"
     ]
    }
   ],
   "source": [
    "# df.to_csv('../data/processed/sample_data_cleaned.csv', index=False)\n",
    "\n",
    "print(\"cleaned data：\")\n",
    "print(df_clean.info())\n",
    "df_clean.head()\n",
    "\n",
    "PROC.parent.mkdir(parents=True, exist_ok=True)\n",
    "df_clean.to_csv(PROC, index=False)\n",
    "\n",
    "print('cleaned_data_saved')\n"
   ]
  },
  {
   "cell_type": "markdown",
   "metadata": {},
   "source": [
    "## Make Comparassions"
   ]
  },
  {
   "cell_type": "code",
   "execution_count": 11,
   "metadata": {},
   "outputs": [
    {
     "name": "stdout",
     "output_type": "stream",
     "text": [
      "initial losses：\n",
      "date        0\n",
      "price       0\n",
      "volume     50\n",
      "returns    50\n",
      "dtype: int64\n",
      "cleaned losses：\n",
      "date        0\n",
      "price       0\n",
      "volume     50\n",
      "returns    50\n",
      "dtype: int64\n",
      "comparassion：\n",
      "initial: count    500.000000\n",
      "mean      99.955358\n",
      "std        9.359578\n",
      "min       67.587327\n",
      "25%       93.990943\n",
      "50%      100.051786\n",
      "75%      105.261837\n",
      "max      138.527315\n",
      "Name: price, dtype: float64\n",
      "cleaned: count    500.000000\n",
      "mean       0.456273\n",
      "std        0.131937\n",
      "min        0.000000\n",
      "25%        0.372197\n",
      "50%        0.457633\n",
      "75%        0.531076\n",
      "max        1.000000\n",
      "Name: price, dtype: float64\n"
     ]
    }
   ],
   "source": [
    "print(\"initial losses：\")\n",
    "print(df.isna().sum())\n",
    "\n",
    "print(\"cleaned losses：\")\n",
    "print(df_clean.isna().sum())\n",
    "\n",
    "print(\"comparassion：\")\n",
    "print(\"initial:\", df['price'].describe())\n",
    "print(\"cleaned:\", df_clean['price'].describe())\n"
   ]
  }
 ],
 "metadata": {
  "kernelspec": {
   "display_name": "finance",
   "language": "python",
   "name": "python3"
  },
  "language_info": {
   "codemirror_mode": {
    "name": "ipython",
    "version": 3
   },
   "file_extension": ".py",
   "mimetype": "text/x-python",
   "name": "python",
   "nbconvert_exporter": "python",
   "pygments_lexer": "ipython3",
   "version": "3.13.5"
  }
 },
 "nbformat": 4,
 "nbformat_minor": 2
}
