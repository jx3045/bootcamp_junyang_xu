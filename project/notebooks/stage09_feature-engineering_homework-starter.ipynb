{
 "cells": [
  {
   "cell_type": "markdown",
   "metadata": {},
   "source": [
    "# Stage 09 — Homework Starter Notebook\n",
    "\n",
    "In the lecture, we learned how to create engineered features. Now it’s your turn to apply those ideas to your own project data."
   ]
  },
  {
   "cell_type": "code",
   "execution_count": 1,
   "metadata": {},
   "outputs": [
    {
     "name": "stdout",
     "output_type": "stream",
     "text": [
      "Data loaded: (192, 6)\n"
     ]
    },
    {
     "data": {
      "text/html": [
       "<div>\n",
       "<style scoped>\n",
       "    .dataframe tbody tr th:only-of-type {\n",
       "        vertical-align: middle;\n",
       "    }\n",
       "\n",
       "    .dataframe tbody tr th {\n",
       "        vertical-align: top;\n",
       "    }\n",
       "\n",
       "    .dataframe thead th {\n",
       "        text-align: right;\n",
       "    }\n",
       "</style>\n",
       "<table border=\"1\" class=\"dataframe\">\n",
       "  <thead>\n",
       "    <tr style=\"text-align: right;\">\n",
       "      <th></th>\n",
       "      <th>date</th>\n",
       "      <th>region</th>\n",
       "      <th>age</th>\n",
       "      <th>income</th>\n",
       "      <th>transactions</th>\n",
       "      <th>spend</th>\n",
       "    </tr>\n",
       "  </thead>\n",
       "  <tbody>\n",
       "    <tr>\n",
       "      <th>0</th>\n",
       "      <td>2025-02-01</td>\n",
       "      <td>West</td>\n",
       "      <td>41.2</td>\n",
       "      <td>51712.11</td>\n",
       "      <td>0</td>\n",
       "      <td>109.42</td>\n",
       "    </tr>\n",
       "    <tr>\n",
       "      <th>1</th>\n",
       "      <td>2025-02-03</td>\n",
       "      <td>South</td>\n",
       "      <td>42.7</td>\n",
       "      <td>29900.82</td>\n",
       "      <td>2</td>\n",
       "      <td>39.73</td>\n",
       "    </tr>\n",
       "    <tr>\n",
       "      <th>2</th>\n",
       "      <td>2025-02-04</td>\n",
       "      <td>South</td>\n",
       "      <td>43.0</td>\n",
       "      <td>34212.69</td>\n",
       "      <td>5</td>\n",
       "      <td>125.46</td>\n",
       "    </tr>\n",
       "    <tr>\n",
       "      <th>3</th>\n",
       "      <td>2025-02-05</td>\n",
       "      <td>South</td>\n",
       "      <td>45.7</td>\n",
       "      <td>67315.90</td>\n",
       "      <td>5</td>\n",
       "      <td>257.72</td>\n",
       "    </tr>\n",
       "    <tr>\n",
       "      <th>4</th>\n",
       "      <td>2025-02-06</td>\n",
       "      <td>East</td>\n",
       "      <td>30.4</td>\n",
       "      <td>32664.85</td>\n",
       "      <td>1</td>\n",
       "      <td>83.56</td>\n",
       "    </tr>\n",
       "  </tbody>\n",
       "</table>\n",
       "</div>"
      ],
      "text/plain": [
       "         date region   age    income  transactions   spend\n",
       "0  2025-02-01   West  41.2  51712.11             0  109.42\n",
       "1  2025-02-03  South  42.7  29900.82             2   39.73\n",
       "2  2025-02-04  South  43.0  34212.69             5  125.46\n",
       "3  2025-02-05  South  45.7  67315.90             5  257.72\n",
       "4  2025-02-06   East  30.4  32664.85             1   83.56"
      ]
     },
     "execution_count": 1,
     "metadata": {},
     "output_type": "execute_result"
    }
   ],
   "source": [
    "# Stage 09 — Feature Engineering Notebook\n",
    "\n",
    "import pandas as pd\n",
    "import numpy as np\n",
    "\n",
    "# === Load dataset from Stage08 processed output ===\n",
    "PROCESSED = \"../data/processed/stage08_clean.csv\"\n",
    "df = pd.read_csv(PROCESSED)\n",
    "\n",
    "print(\"Data loaded:\", df.shape)\n",
    "df.head()\n"
   ]
  },
  {
   "cell_type": "markdown",
   "id": "f83b1a5b",
   "metadata": {},
   "source": [
    "## Feature1: Spend-to-Income Ratio"
   ]
  },
  {
   "cell_type": "code",
   "execution_count": 2,
   "id": "411a8f3c",
   "metadata": {},
   "outputs": [
    {
     "data": {
      "text/html": [
       "<div>\n",
       "<style scoped>\n",
       "    .dataframe tbody tr th:only-of-type {\n",
       "        vertical-align: middle;\n",
       "    }\n",
       "\n",
       "    .dataframe tbody tr th {\n",
       "        vertical-align: top;\n",
       "    }\n",
       "\n",
       "    .dataframe thead th {\n",
       "        text-align: right;\n",
       "    }\n",
       "</style>\n",
       "<table border=\"1\" class=\"dataframe\">\n",
       "  <thead>\n",
       "    <tr style=\"text-align: right;\">\n",
       "      <th></th>\n",
       "      <th>income</th>\n",
       "      <th>spend</th>\n",
       "      <th>spend_income_ratio</th>\n",
       "    </tr>\n",
       "  </thead>\n",
       "  <tbody>\n",
       "    <tr>\n",
       "      <th>0</th>\n",
       "      <td>51712.11</td>\n",
       "      <td>109.42</td>\n",
       "      <td>0.002116</td>\n",
       "    </tr>\n",
       "    <tr>\n",
       "      <th>1</th>\n",
       "      <td>29900.82</td>\n",
       "      <td>39.73</td>\n",
       "      <td>0.001329</td>\n",
       "    </tr>\n",
       "    <tr>\n",
       "      <th>2</th>\n",
       "      <td>34212.69</td>\n",
       "      <td>125.46</td>\n",
       "      <td>0.003667</td>\n",
       "    </tr>\n",
       "    <tr>\n",
       "      <th>3</th>\n",
       "      <td>67315.90</td>\n",
       "      <td>257.72</td>\n",
       "      <td>0.003829</td>\n",
       "    </tr>\n",
       "    <tr>\n",
       "      <th>4</th>\n",
       "      <td>32664.85</td>\n",
       "      <td>83.56</td>\n",
       "      <td>0.002558</td>\n",
       "    </tr>\n",
       "  </tbody>\n",
       "</table>\n",
       "</div>"
      ],
      "text/plain": [
       "     income   spend  spend_income_ratio\n",
       "0  51712.11  109.42            0.002116\n",
       "1  29900.82   39.73            0.001329\n",
       "2  34212.69  125.46            0.003667\n",
       "3  67315.90  257.72            0.003829\n",
       "4  32664.85   83.56            0.002558"
      ]
     },
     "execution_count": 2,
     "metadata": {},
     "output_type": "execute_result"
    }
   ],
   "source": [
    "\n",
    "df['spend_income_ratio'] = df['spend'] / df['income']\n",
    "\n",
    "df[['income', 'spend', 'spend_income_ratio']].head()\n"
   ]
  },
  {
   "cell_type": "markdown",
   "id": "3990c8d4",
   "metadata": {},
   "source": [
    "Rationale:\n",
    "\n",
    "This feature captures how much of a person’s income is being spent.\n",
    "\n",
    "In EDA (Stage08), we observed that higher spending often scales with higher income, but the proportion differs between individuals.\n",
    "\n",
    "This ratio normalizes spend by income and helps reveal over-spending behavior."
   ]
  },
  {
   "cell_type": "code",
   "execution_count": 3,
   "metadata": {},
   "outputs": [],
   "source": [
    "# TODO: Add another feature\n",
    "# Example: df['rolling_spend_mean'] = df['monthly_spend'].rolling(3).mean()"
   ]
  },
  {
   "cell_type": "markdown",
   "id": "38fd54d4",
   "metadata": {},
   "source": [
    "## Feature2: Rolling Mean of Spend"
   ]
  },
  {
   "cell_type": "code",
   "execution_count": 4,
   "id": "e0c9b0ba",
   "metadata": {},
   "outputs": [
    {
     "data": {
      "text/html": [
       "<div>\n",
       "<style scoped>\n",
       "    .dataframe tbody tr th:only-of-type {\n",
       "        vertical-align: middle;\n",
       "    }\n",
       "\n",
       "    .dataframe tbody tr th {\n",
       "        vertical-align: top;\n",
       "    }\n",
       "\n",
       "    .dataframe thead th {\n",
       "        text-align: right;\n",
       "    }\n",
       "</style>\n",
       "<table border=\"1\" class=\"dataframe\">\n",
       "  <thead>\n",
       "    <tr style=\"text-align: right;\">\n",
       "      <th></th>\n",
       "      <th>spend</th>\n",
       "      <th>rolling_spend_mean</th>\n",
       "    </tr>\n",
       "  </thead>\n",
       "  <tbody>\n",
       "    <tr>\n",
       "      <th>0</th>\n",
       "      <td>109.42</td>\n",
       "      <td>NaN</td>\n",
       "    </tr>\n",
       "    <tr>\n",
       "      <th>1</th>\n",
       "      <td>39.73</td>\n",
       "      <td>NaN</td>\n",
       "    </tr>\n",
       "    <tr>\n",
       "      <th>2</th>\n",
       "      <td>125.46</td>\n",
       "      <td>NaN</td>\n",
       "    </tr>\n",
       "    <tr>\n",
       "      <th>3</th>\n",
       "      <td>257.72</td>\n",
       "      <td>NaN</td>\n",
       "    </tr>\n",
       "    <tr>\n",
       "      <th>4</th>\n",
       "      <td>83.56</td>\n",
       "      <td>123.178</td>\n",
       "    </tr>\n",
       "    <tr>\n",
       "      <th>5</th>\n",
       "      <td>78.24</td>\n",
       "      <td>116.942</td>\n",
       "    </tr>\n",
       "    <tr>\n",
       "      <th>6</th>\n",
       "      <td>59.91</td>\n",
       "      <td>120.978</td>\n",
       "    </tr>\n",
       "    <tr>\n",
       "      <th>7</th>\n",
       "      <td>147.43</td>\n",
       "      <td>125.372</td>\n",
       "    </tr>\n",
       "    <tr>\n",
       "      <th>8</th>\n",
       "      <td>150.38</td>\n",
       "      <td>103.904</td>\n",
       "    </tr>\n",
       "    <tr>\n",
       "      <th>9</th>\n",
       "      <td>148.05</td>\n",
       "      <td>116.802</td>\n",
       "    </tr>\n",
       "  </tbody>\n",
       "</table>\n",
       "</div>"
      ],
      "text/plain": [
       "    spend  rolling_spend_mean\n",
       "0  109.42                 NaN\n",
       "1   39.73                 NaN\n",
       "2  125.46                 NaN\n",
       "3  257.72                 NaN\n",
       "4   83.56             123.178\n",
       "5   78.24             116.942\n",
       "6   59.91             120.978\n",
       "7  147.43             125.372\n",
       "8  150.38             103.904\n",
       "9  148.05             116.802"
      ]
     },
     "execution_count": 4,
     "metadata": {},
     "output_type": "execute_result"
    }
   ],
   "source": [
    "# Rolling 5-day average of spend\n",
    "df['rolling_spend_mean'] = df['spend'].rolling(5).mean()\n",
    "\n",
    "df[['spend', 'rolling_spend_mean']].head(10)\n"
   ]
  },
  {
   "cell_type": "markdown",
   "id": "f115288a",
   "metadata": {},
   "source": [
    "Rationale:\n",
    "\n",
    "Captures short-term spending trends (5-day smoothing).\n",
    "\n",
    "This reduces noise from daily fluctuations and helps the model pick up spending patterns over time."
   ]
  },
  {
   "cell_type": "markdown",
   "id": "1e0d379c",
   "metadata": {},
   "source": [
    "## Feature3: Age Grouping"
   ]
  },
  {
   "cell_type": "code",
   "execution_count": 5,
   "id": "d362a1f3",
   "metadata": {},
   "outputs": [
    {
     "data": {
      "text/html": [
       "<div>\n",
       "<style scoped>\n",
       "    .dataframe tbody tr th:only-of-type {\n",
       "        vertical-align: middle;\n",
       "    }\n",
       "\n",
       "    .dataframe tbody tr th {\n",
       "        vertical-align: top;\n",
       "    }\n",
       "\n",
       "    .dataframe thead th {\n",
       "        text-align: right;\n",
       "    }\n",
       "</style>\n",
       "<table border=\"1\" class=\"dataframe\">\n",
       "  <thead>\n",
       "    <tr style=\"text-align: right;\">\n",
       "      <th></th>\n",
       "      <th>age</th>\n",
       "      <th>age_group</th>\n",
       "    </tr>\n",
       "  </thead>\n",
       "  <tbody>\n",
       "    <tr>\n",
       "      <th>0</th>\n",
       "      <td>41.2</td>\n",
       "      <td>40s</td>\n",
       "    </tr>\n",
       "    <tr>\n",
       "      <th>1</th>\n",
       "      <td>42.7</td>\n",
       "      <td>40s</td>\n",
       "    </tr>\n",
       "    <tr>\n",
       "      <th>2</th>\n",
       "      <td>43.0</td>\n",
       "      <td>40s</td>\n",
       "    </tr>\n",
       "    <tr>\n",
       "      <th>3</th>\n",
       "      <td>45.7</td>\n",
       "      <td>40s</td>\n",
       "    </tr>\n",
       "    <tr>\n",
       "      <th>4</th>\n",
       "      <td>30.4</td>\n",
       "      <td>30s</td>\n",
       "    </tr>\n",
       "  </tbody>\n",
       "</table>\n",
       "</div>"
      ],
      "text/plain": [
       "    age age_group\n",
       "0  41.2       40s\n",
       "1  42.7       40s\n",
       "2  43.0       40s\n",
       "3  45.7       40s\n",
       "4  30.4       30s"
      ]
     },
     "execution_count": 5,
     "metadata": {},
     "output_type": "execute_result"
    }
   ],
   "source": [
    "# Categorize age into bins\n",
    "df['age_group'] = pd.cut(df['age'],\n",
    "                         bins=[17, 29, 39, 49, 59, 70],\n",
    "                         labels=['20s','30s','40s','50s','60+'])\n",
    "\n",
    "df[['age','age_group']].head()\n"
   ]
  },
  {
   "cell_type": "markdown",
   "id": "c8e1e0da",
   "metadata": {},
   "source": [
    "\n",
    "Rationale:\n",
    "\n",
    "Converts continuous age into categorical age_group.\n",
    "\n",
    "Helps capture non-linear effects of age on spending.\n",
    "\n",
    "Based on Stage08 insights, spending showed variation with age (young vs older groups)."
   ]
  },
  {
   "cell_type": "markdown",
   "id": "dd277f7a",
   "metadata": {},
   "source": [
    "## Feature 4: Regional Spend Share"
   ]
  },
  {
   "cell_type": "code",
   "execution_count": 6,
   "id": "01aa8396",
   "metadata": {},
   "outputs": [],
   "source": [
    "# Calculate region spend share\n",
    "region_spend = df.groupby('region')['spend'].transform('sum')\n",
    "df['region_spend_share'] = df['spend'] / region_spend\n"
   ]
  },
  {
   "cell_type": "markdown",
   "id": "6b4e19c2",
   "metadata": {},
   "source": [
    "Rationale:\n",
    "\n",
    "Normalizes individual spend by regional total spend.\n",
    "\n",
    "Highlights whether someone is a \"big spender\" relative to peers in the same region.\n",
    "\n",
    "Connects to EDA where spending distributions varied by region."
   ]
  },
  {
   "cell_type": "markdown",
   "id": "26f38d69",
   "metadata": {},
   "source": [
    "## Feature 5: Income Variability Proxy"
   ]
  },
  {
   "cell_type": "code",
   "execution_count": 7,
   "id": "81758a50",
   "metadata": {},
   "outputs": [],
   "source": [
    "# Rolling 5-day variance in income (proxy for variability)\n",
    "df['rolling_income_var'] = df['income'].rolling(5).var()\n"
   ]
  },
  {
   "cell_type": "markdown",
   "id": "e5fc05f4",
   "metadata": {},
   "source": [
    "Rationale:\n",
    "\n",
    "Captures short-term variability in income.\n",
    "\n",
    "Even if average income is stable, local variance may signal irregular patterns (e.g., bonuses, missing records).\n",
    "\n",
    "Ties to EDA observation of outliers and missingness in income."
   ]
  },
  {
   "cell_type": "code",
   "execution_count": null,
   "id": "6d44acfa",
   "metadata": {},
   "outputs": [],
   "source": []
  },
  {
   "cell_type": "code",
   "execution_count": null,
   "id": "062f8a9b",
   "metadata": {},
   "outputs": [],
   "source": []
  },
  {
   "cell_type": "code",
   "execution_count": 8,
   "id": "1e58661d",
   "metadata": {},
   "outputs": [
    {
     "name": "stdout",
     "output_type": "stream",
     "text": [
      "Feature-engineered dataset saved to ../data/processed/stage09_features.csv\n"
     ]
    }
   ],
   "source": [
    "# Save to processed folder\n",
    "FEATURED = \"../data/processed/stage09_features.csv\"\n",
    "df.to_csv(FEATURED, index=False)\n",
    "print(f\"Feature-engineered dataset saved to {FEATURED}\")\n"
   ]
  }
 ],
 "metadata": {
  "kernelspec": {
   "display_name": "finance",
   "language": "python",
   "name": "python3"
  },
  "language_info": {
   "codemirror_mode": {
    "name": "ipython",
    "version": 3
   },
   "file_extension": ".py",
   "mimetype": "text/x-python",
   "name": "python",
   "nbconvert_exporter": "python",
   "pygments_lexer": "ipython3",
   "version": "3.13.5"
  }
 },
 "nbformat": 4,
 "nbformat_minor": 5
}
