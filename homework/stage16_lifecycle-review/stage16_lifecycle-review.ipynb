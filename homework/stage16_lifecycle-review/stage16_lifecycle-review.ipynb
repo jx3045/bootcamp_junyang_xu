{
 "cells": [
  {
   "cell_type": "markdown",
   "metadata": {},
   "source": [
    "# Stage 16 Homework Starter\n",
    "\n",
    "This notebook is a starting point for polishing your final repo and lifecycle mapping."
   ]
  },
  {
   "cell_type": "markdown",
   "metadata": {},
   "source": [
    "## Checklist Template\n",
    " - Add checklist elements, as in the examples below, to make sure you cover everything you would like to accomplish\n",
    "- Update this checklist as you finalize your repo."
   ]
  },
  {
   "cell_type": "code",
   "execution_count": null,
   "metadata": {},
   "outputs": [],
   "source": [
    "checklist = {\n",
    "    \"repo_clean\": False,              \n",
    "    \"repo_complete\": False,          \n",
    "    \"readme_complete\": False,       \n",
    "    \"lifecycle_map\": False,          \n",
    "    \"summary_doc\": False,             \n",
    "    \"framework_guide_table\": False    \n",
    "}\n",
    "print(\"Stage 16 Checklist:\", checklist)\n",
    "\n",
    "\n"
   ]
  },
  {
   "cell_type": "markdown",
   "metadata": {},
   "source": [
    "## Reflection Prompts\n",
    "- What stage of the lifecycle was hardest for you, and why?\n",
    "- Which part of your repo is most reusable in a future project?\n",
    "- If a teammate had to pick up your repo tomorrow, what would help them most?"
   ]
  },
  {
   "cell_type": "markdown",
   "metadata": {},
   "source": [
    "## Reflection\n",
    "\n",
    "### What stage of the lifecycle was hardest for you, and why?\n",
    "The hardest stage was **Stage 13**.  \n",
    "## Stage 13 — Difficulties Encountered (Productization)\n",
    "### Key Challenges:\n",
    "- **Bridging prototype and production**:  \n",
    "  Moving from exploratory notebooks to a Flask API required restructuring the codebase into reusable scripts and modules.  \n",
    " \n",
    "- **Consistency of environment**:  \n",
    "  Packaging dependencies (Flask, scikit-learn, requests, matplotlib) so the service would run consistently across different machines.  \n",
    "\n",
    "- **Reproducibility and documentation**:  \n",
    "  Writing clear instructions so that others can launch the app and query it without confusion. \n",
    "\n",
    "\n",
    "### Which part of your repo is most reusable in a future project?\n",
    "The **model training script (`src/train_model.py`)** is the most reusable component.  \n",
    "It is structured, handles missing values robustly (with median imputation), logs key steps, and produces a saved model artifact.  \n",
    "With small modifications to paths and input schema, it can be reused for many regression projects.\n",
    "\n",
    "### If a teammate had to pick up your repo tomorrow, what would help them most?\n",
    "The **README file and the reports folder** would be the most helpful.  \n",
    "The README provides a clear overview of the repo structure and workflow, while `/reports/` contains detailed documents (EDA report, orchestration plan, framework guide).  \n",
    "These make the project easy to navigate and ensure that a new teammate can understand the lifecycle without digging deep into code immediately.\n"
   ]
  }
 ],
 "metadata": {
  "kernelspec": {
   "display_name": "Python 3",
   "language": "python",
   "name": "python3"
  }
 },
 "nbformat": 4,
 "nbformat_minor": 2
}
