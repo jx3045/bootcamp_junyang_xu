{
 "cells": [
  {
   "cell_type": "code",
   "execution_count": null,
   "id": "f2317589",
   "metadata": {},
   "outputs": [],
   "source": [
    "from dotenv import load_dotenv\n",
    "import os\n",
    "import numpy as np\n",
    "\n",
    "load_dotenv()\n",
    "print(\"API_KEY present:\", os.getenv(\"API_KEY\") is not None)\n",
    "\n",
    "arr = np.array([1, 2, 3])\n",
    "print(\"Array sum:\", arr.sum())\n"
   ]
  }
 ],
 "metadata": {
  "kernelspec": {
   "display_name": "finance",
   "language": "python",
   "name": "python3"
  },
  "language_info": {
   "name": "python",
   "version": "3.13.5"
  }
 },
 "nbformat": 4,
 "nbformat_minor": 5
}
