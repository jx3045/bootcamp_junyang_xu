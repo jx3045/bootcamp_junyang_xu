{
 "cells": [
  {
   "cell_type": "code",
   "execution_count": 27,
   "id": "8f474fde",
   "metadata": {},
   "outputs": [
    {
     "name": "stdout",
     "output_type": "stream",
     "text": [
      "/Users/xujunyang/Desktop/bootcamp_junyang_xu\n"
     ]
    }
   ],
   "source": [
    "import os\n",
    "os.chdir('/Users/xujunyang/Desktop/bootcamp_junyang_xu') # shift to the root dir\n",
    "print(os.getcwd())"
   ]
  },
  {
   "cell_type": "code",
   "execution_count": 28,
   "id": "a51f922c",
   "metadata": {},
   "outputs": [
    {
     "name": "stdout",
     "output_type": "stream",
     "text": [
      "Loop time: 0.11434602737426758\n",
      "Vectorized time: 0.0035419464111328125\n"
     ]
    }
   ],
   "source": [
    "import numpy as np\n",
    "import time\n",
    "\n",
    "\n",
    "arr = np.arange(1_000_000)\n",
    "\n",
    "\n",
    "start = time.time()\n",
    "squared_loop = [x**2 for x in arr]\n",
    "end = time.time()\n",
    "print(\"Loop time:\", end-start)\n",
    "\n",
    "\n",
    "start = time.time()\n",
    "squared_vector = arr**2\n",
    "end = time.time()\n",
    "print(\"Vectorized time:\", end-start)\n"
   ]
  },
  {
   "cell_type": "code",
   "execution_count": 29,
   "id": "89598757",
   "metadata": {},
   "outputs": [
    {
     "name": "stdout",
     "output_type": "stream",
     "text": [
      "<class 'pandas.core.frame.DataFrame'>\n",
      "RangeIndex: 100 entries, 0 to 99\n",
      "Data columns (total 4 columns):\n",
      " #   Column          Non-Null Count  Dtype  \n",
      "---  ------          --------------  -----  \n",
      " 0   CustomerID      100 non-null    int64  \n",
      " 1   CategoryColumn  100 non-null    object \n",
      " 2   NumericColumn1  100 non-null    float64\n",
      " 3   NumericColumn2  100 non-null    int64  \n",
      "dtypes: float64(1), int64(2), object(1)\n",
      "memory usage: 3.3+ KB\n",
      "None\n",
      "   CustomerID CategoryColumn  NumericColumn1  NumericColumn2\n",
      "0           1              C       55.821228               1\n",
      "1           2              A       58.877485               0\n",
      "2           3              C       58.943323              47\n",
      "3           4              C       57.549978              11\n",
      "4           5              A       47.928341              68\n"
     ]
    }
   ],
   "source": [
    "import pandas as pd\n",
    "\n",
    "df = pd.read_csv('data/starter_data.csv')\n",
    "print(df.info())\n",
    "print(df.head())\n"
   ]
  },
  {
   "cell_type": "markdown",
   "id": "fea57de2",
   "metadata": {},
   "source": [
    "Descriptive Statistics & Grouping"
   ]
  },
  {
   "cell_type": "code",
   "execution_count": 30,
   "id": "8c70dc5c",
   "metadata": {},
   "outputs": [
    {
     "name": "stdout",
     "output_type": "stream",
     "text": [
      "       CustomerID  NumericColumn1  NumericColumn2\n",
      "count  100.000000      100.000000      100.000000\n",
      "mean    50.500000       50.902742       48.560000\n",
      "std     29.011492        9.589352       29.637309\n",
      "min      1.000000       23.448240        0.000000\n",
      "25%     25.750000       45.521849       23.750000\n",
      "50%     50.500000       50.065408       46.000000\n",
      "75%     75.250000       57.687578       71.750000\n",
      "max    100.000000       83.722963       99.000000\n",
      "                CustomerID  NumericColumn1  NumericColumn2\n",
      "CategoryColumn                                            \n",
      "A                56.606061       52.028294       51.727273\n",
      "B                52.527778       50.310700       46.666667\n",
      "C                41.645161       50.392107       47.387097\n"
     ]
    }
   ],
   "source": [
    "\n",
    "summary = df.describe()\n",
    "print(summary)\n",
    "\n",
    "#groupby\n",
    "grouped = df.groupby('CategoryColumn').mean()\n",
    "print(grouped)\n",
    "\n",
    "\n",
    "import os\n",
    "os.makedirs('data/processed', exist_ok=True)\n",
    "summary.to_csv('data/processed/summary.csv', index=True)\n"
   ]
  },
  {
   "cell_type": "code",
   "execution_count": 31,
   "id": "e67f4372",
   "metadata": {},
   "outputs": [
    {
     "name": "stdout",
     "output_type": "stream",
     "text": [
      "       CustomerID  NumericColumn1  NumericColumn2\n",
      "count  100.000000      100.000000      100.000000\n",
      "mean    50.500000       50.902742       48.560000\n",
      "std     29.011492        9.589352       29.637309\n",
      "min      1.000000       23.448240        0.000000\n",
      "25%     25.750000       45.521849       23.750000\n",
      "50%     50.500000       50.065408       46.000000\n",
      "75%     75.250000       57.687578       71.750000\n",
      "max    100.000000       83.722963       99.000000\n"
     ]
    }
   ],
   "source": [
    "from src.utils import get_summary_stats\n",
    "\n",
    "summary2 = get_summary_stats(df)\n",
    "print(summary2)"
   ]
  },
  {
   "cell_type": "code",
   "execution_count": 32,
   "id": "9b106e12",
   "metadata": {},
   "outputs": [
    {
     "data": {
      "image/png": "[encoded data removed]",
      "text/plain": [
       "<Figure size 640x480 with 1 Axes>"
      ]
     },
     "metadata": {},
     "output_type": "display_data"
    }
   ],
   "source": [
    "import matplotlib.pyplot as plt\n",
    "\n",
    "\n",
    "df['NumericColumn1'].hist()\n",
    "plt.title(\"Histogram of NumericColumn1\")\n",
    "plt.xlabel(\"Value\")\n",
    "plt.ylabel(\"Frequency\")\n",
    "plt.show()\n",
    "\n"
   ]
  }
 ],
 "metadata": {
  "kernelspec": {
   "display_name": "finance",
   "language": "python",
   "name": "python3"
  },
  "language_info": {
   "codemirror_mode": {
    "name": "ipython",
    "version": 3
   },
   "file_extension": ".py",
   "mimetype": "text/x-python",
   "name": "python",
   "nbconvert_exporter": "python",
   "pygments_lexer": "ipython3",
   "version": "3.13.5"
  }
 },
 "nbformat": 4,
 "nbformat_minor": 5
}
