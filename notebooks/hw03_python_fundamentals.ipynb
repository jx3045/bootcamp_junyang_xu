{
 "cells": [
  {
   "cell_type": "code",
   "execution_count": 46,
   "id": "8f474fde",
   "metadata": {},
   "outputs": [
    {
     "name": "stdout",
     "output_type": "stream",
     "text": [
      "/Users/xujunyang/Desktop/bootcamp_junyang_xu\n"
     ]
    }
   ],
   "source": [
    "import os\n",
    "os.chdir('/Users/xujunyang/Desktop/bootcamp_junyang_xu') # shift to the root dir\n",
    "print(os.getcwd())"
   ]
  },
  {
   "cell_type": "code",
   "execution_count": 47,
   "id": "a51f922c",
   "metadata": {},
   "outputs": [
    {
     "name": "stdout",
     "output_type": "stream",
     "text": [
      "Loop time: 0.14378094673156738\n",
      "Vectorized time: 0.004821062088012695\n"
     ]
    }
   ],
   "source": [
    "import numpy as np\n",
    "import time\n",
    "\n",
    "\n",
    "arr = np.arange(1_000_000)\n",
    "\n",
    "\n",
    "start = time.time()\n",
    "squared_loop = [x**2 for x in arr]\n",
    "end = time.time()\n",
    "print(\"Loop time:\", end-start)\n",
    "\n",
    "\n",
    "start = time.time()\n",
    "squared_vector = arr**2\n",
    "end = time.time()\n",
    "print(\"Vectorized time:\", end-start)\n"
   ]
  },
  {
   "cell_type": "code",
   "execution_count": 48,
   "id": "89598757",
   "metadata": {},
   "outputs": [
    {
     "name": "stdout",
     "output_type": "stream",
     "text": [
      "<class 'pandas.core.frame.DataFrame'>\n",
      "RangeIndex: 10 entries, 0 to 9\n",
      "Data columns (total 3 columns):\n",
      " #   Column    Non-Null Count  Dtype \n",
      "---  ------    --------------  ----- \n",
      " 0   category  10 non-null     object\n",
      " 1   value     10 non-null     int64 \n",
      " 2   date      10 non-null     object\n",
      "dtypes: int64(1), object(2)\n",
      "memory usage: 372.0+ bytes\n",
      "None\n",
      "  category  value        date\n",
      "0        A     10  2025-08-01\n",
      "1        B     15  2025-08-02\n",
      "2        A     12  2025-08-03\n",
      "3        B     18  2025-08-04\n",
      "4        C     25  2025-08-05\n"
     ]
    }
   ],
   "source": [
    "import pandas as pd\n",
    "\n",
    "df = pd.read_csv('data/starter_data.csv')\n",
    "print(df.info())\n",
    "print(df.head())\n"
   ]
  },
  {
   "cell_type": "markdown",
   "id": "fea57de2",
   "metadata": {},
   "source": [
    "Descriptive Statistics & Grouping"
   ]
  },
  {
   "cell_type": "code",
   "execution_count": 49,
   "id": "8c70dc5c",
   "metadata": {},
   "outputs": [
    {
     "name": "stdout",
     "output_type": "stream",
     "text": [
      "           value\n",
      "count  10.000000\n",
      "mean   17.600000\n",
      "std     7.381659\n",
      "min    10.000000\n",
      "25%    12.250000\n",
      "50%    14.500000\n",
      "75%    23.250000\n",
      "max    30.000000\n",
      "              value\n",
      "category           \n",
      "A         11.500000\n",
      "B         15.666667\n",
      "C         27.666667\n"
     ]
    }
   ],
   "source": [
    "summary = df.describe()\n",
    "print(summary)\n",
    "\n",
    "# mean\n",
    "grouped = df.groupby('category').mean(numeric_only=True)\n",
    "print(grouped)\n",
    "\n",
    "import os\n",
    "os.makedirs('data/processed', exist_ok=True)\n",
    "summary.to_csv('data/processed/summary.csv', index=True)\n",
    "\n"
   ]
  },
  {
   "cell_type": "code",
   "execution_count": 50,
   "id": "e67f4372",
   "metadata": {},
   "outputs": [
    {
     "name": "stdout",
     "output_type": "stream",
     "text": [
      "           value\n",
      "count  10.000000\n",
      "mean   17.600000\n",
      "std     7.381659\n",
      "min    10.000000\n",
      "25%    12.250000\n",
      "50%    14.500000\n",
      "75%    23.250000\n",
      "max    30.000000\n"
     ]
    }
   ],
   "source": [
    "from src.utils import get_summary_stats\n",
    "\n",
    "summary2 = get_summary_stats(df)\n",
    "print(summary2)"
   ]
  },
  {
   "cell_type": "code",
   "execution_count": 51,
   "id": "9b106e12",
   "metadata": {},
   "outputs": [
    {
     "data": {
      "image/png": "[encoded data removed]",
      "text/plain": [
       "<Figure size 640x480 with 1 Axes>"
      ]
     },
     "metadata": {},
     "output_type": "display_data"
    }
   ],
   "source": [
    "import matplotlib.pyplot as plt\n",
    "\n",
    "\n",
    "df['value'].hist()\n",
    "plt.title(\"Histogram of value\")\n",
    "plt.xlabel(\"Value\")\n",
    "plt.ylabel(\"Frequency\")\n",
    "plt.show()\n",
    "\n"
   ]
  }
 ],
 "metadata": {
  "kernelspec": {
   "display_name": "finance",
   "language": "python",
   "name": "python3"
  },
  "language_info": {
   "codemirror_mode": {
    "name": "ipython",
    "version": 3
   },
   "file_extension": ".py",
   "mimetype": "text/x-python",
   "name": "python",
   "nbconvert_exporter": "python",
   "pygments_lexer": "ipython3",
   "version": "3.13.5"
  }
 },
 "nbformat": 4,
 "nbformat_minor": 5
}
